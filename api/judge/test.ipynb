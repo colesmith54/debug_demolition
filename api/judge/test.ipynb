{
 "cells": [
  {
   "cell_type": "code",
   "execution_count": 6,
   "id": "initial_id",
   "metadata": {
    "collapsed": true,
    "ExecuteTime": {
     "end_time": "2025-01-25T19:29:22.937051Z",
     "start_time": "2025-01-25T19:29:22.930741Z"
    }
   },
   "outputs": [],
   "source": [
    "import pandas as pd\n",
    "import numpy as np"
   ]
  },
  {
   "cell_type": "code",
   "outputs": [
    {
     "data": {
      "text/plain": "                                            title  \\\n0                                         Two Sum   \n1                               Valid Parentheses   \n2                          Merge Two Sorted Lists   \n3                 Best Time to Buy and Sell Stock   \n4                                Valid Palindrome   \n5                              Invert Binary Tree   \n6                                   Valid Anagram   \n7                                   Binary Search   \n8                                      Flood Fill   \n9  Lowest Common Ancestor of a Binary Search Tree   \n\n                                                html  \\\n0  \\n        <h3>Two Sum</h3>\\n        <p><strong...   \n1  \\n        <h3>Valid Parentheses</h3>\\n        ...   \n2  \\n        <h3>Merge Two Sorted Lists</h3>\\n   ...   \n3  \\n        <h3>Best Time to Buy and Sell Stock<...   \n4  \\n        <h3>Valid Palindrome</h3>\\n        <...   \n5  \\n        <h3>Invert Binary Tree</h3>\\n       ...   \n6  \\n        <h3>Valid Anagram</h3>\\n        <p><...   \n7  \\n        <h3>Binary Search</h3>\\n        <p><...   \n8  \\n        <h3>Flood Fill</h3>\\n        <p><str...   \n9  \\n        <h3>Lowest Common Ancestor of a Bina...   \n\n                          problem_function  \n0                                   TwoSum  \n1                         ValidParentheses  \n2                      MergeTwoSortedLists  \n3                BestTimetoBuyandSellStock  \n4                          ValidPalindrome  \n5                         InvertBinaryTree  \n6                             ValidAnagram  \n7                             BinarySearch  \n8                                FloodFill  \n9  LowestCommonAncestorofaBinarySearchTree  ",
      "text/html": "<div>\n<style scoped>\n    .dataframe tbody tr th:only-of-type {\n        vertical-align: middle;\n    }\n\n    .dataframe tbody tr th {\n        vertical-align: top;\n    }\n\n    .dataframe thead th {\n        text-align: right;\n    }\n</style>\n<table border=\"1\" class=\"dataframe\">\n  <thead>\n    <tr style=\"text-align: right;\">\n      <th></th>\n      <th>title</th>\n      <th>html</th>\n      <th>problem_function</th>\n    </tr>\n  </thead>\n  <tbody>\n    <tr>\n      <th>0</th>\n      <td>Two Sum</td>\n      <td>\\n        &lt;h3&gt;Two Sum&lt;/h3&gt;\\n        &lt;p&gt;&lt;strong...</td>\n      <td>TwoSum</td>\n    </tr>\n    <tr>\n      <th>1</th>\n      <td>Valid Parentheses</td>\n      <td>\\n        &lt;h3&gt;Valid Parentheses&lt;/h3&gt;\\n        ...</td>\n      <td>ValidParentheses</td>\n    </tr>\n    <tr>\n      <th>2</th>\n      <td>Merge Two Sorted Lists</td>\n      <td>\\n        &lt;h3&gt;Merge Two Sorted Lists&lt;/h3&gt;\\n   ...</td>\n      <td>MergeTwoSortedLists</td>\n    </tr>\n    <tr>\n      <th>3</th>\n      <td>Best Time to Buy and Sell Stock</td>\n      <td>\\n        &lt;h3&gt;Best Time to Buy and Sell Stock&lt;...</td>\n      <td>BestTimetoBuyandSellStock</td>\n    </tr>\n    <tr>\n      <th>4</th>\n      <td>Valid Palindrome</td>\n      <td>\\n        &lt;h3&gt;Valid Palindrome&lt;/h3&gt;\\n        &lt;...</td>\n      <td>ValidPalindrome</td>\n    </tr>\n    <tr>\n      <th>5</th>\n      <td>Invert Binary Tree</td>\n      <td>\\n        &lt;h3&gt;Invert Binary Tree&lt;/h3&gt;\\n       ...</td>\n      <td>InvertBinaryTree</td>\n    </tr>\n    <tr>\n      <th>6</th>\n      <td>Valid Anagram</td>\n      <td>\\n        &lt;h3&gt;Valid Anagram&lt;/h3&gt;\\n        &lt;p&gt;&lt;...</td>\n      <td>ValidAnagram</td>\n    </tr>\n    <tr>\n      <th>7</th>\n      <td>Binary Search</td>\n      <td>\\n        &lt;h3&gt;Binary Search&lt;/h3&gt;\\n        &lt;p&gt;&lt;...</td>\n      <td>BinarySearch</td>\n    </tr>\n    <tr>\n      <th>8</th>\n      <td>Flood Fill</td>\n      <td>\\n        &lt;h3&gt;Flood Fill&lt;/h3&gt;\\n        &lt;p&gt;&lt;str...</td>\n      <td>FloodFill</td>\n    </tr>\n    <tr>\n      <th>9</th>\n      <td>Lowest Common Ancestor of a Binary Search Tree</td>\n      <td>\\n        &lt;h3&gt;Lowest Common Ancestor of a Bina...</td>\n      <td>LowestCommonAncestorofaBinarySearchTree</td>\n    </tr>\n  </tbody>\n</table>\n</div>"
     },
     "execution_count": 7,
     "metadata": {},
     "output_type": "execute_result"
    }
   ],
   "source": [
    "df = pd.read_csv('../assets/problems_with_html.csv')\n",
    "df"
   ],
   "metadata": {
    "collapsed": false,
    "ExecuteTime": {
     "end_time": "2025-01-25T19:29:24.377574Z",
     "start_time": "2025-01-25T19:29:24.354108Z"
    }
   },
   "id": "79a393846628cc47",
   "execution_count": 7
  },
  {
   "cell_type": "code",
   "outputs": [],
   "source": [
    "df['problem_function'] = df['title'].apply(lambda x: x.replace(' ', ''))\n",
    "df['id'] = np.arange(10)"
   ],
   "metadata": {
    "collapsed": false,
    "ExecuteTime": {
     "end_time": "2025-01-25T19:29:25.922340Z",
     "start_time": "2025-01-25T19:29:25.915948Z"
    }
   },
   "id": "95ba4adc8ad0ebe7",
   "execution_count": 8
  },
  {
   "cell_type": "code",
   "outputs": [],
   "source": [
    "df.to_csv('../assets/problems_with_html.csv', index=False)"
   ],
   "metadata": {
    "collapsed": false,
    "ExecuteTime": {
     "end_time": "2025-01-25T19:29:29.671553Z",
     "start_time": "2025-01-25T19:29:29.665548Z"
    }
   },
   "id": "f386276191d9b2e7",
   "execution_count": 9
  }
 ],
 "metadata": {
  "kernelspec": {
   "display_name": "Python 3",
   "language": "python",
   "name": "python3"
  },
  "language_info": {
   "codemirror_mode": {
    "name": "ipython",
    "version": 2
   },
   "file_extension": ".py",
   "mimetype": "text/x-python",
   "name": "python",
   "nbconvert_exporter": "python",
   "pygments_lexer": "ipython2",
   "version": "2.7.6"
  }
 },
 "nbformat": 4,
 "nbformat_minor": 5
}
